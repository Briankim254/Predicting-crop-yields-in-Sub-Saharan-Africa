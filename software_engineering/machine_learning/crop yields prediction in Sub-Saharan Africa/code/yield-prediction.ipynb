{
 "cells": [
  {
   "cell_type": "code",
   "execution_count": 19,
   "metadata": {},
   "outputs": [],
   "source": [
    "#import all nessary libraries\n",
    "#importing library\n",
    "import pandas as pd\n",
    "import numpy as np\n",
    "import matplotlib.pyplot as plt\n",
    "import seaborn as sns\n"
   ]
  },
  {
   "cell_type": "code",
   "execution_count": 39,
   "metadata": {},
   "outputs": [],
   "source": [
    "#read exel data\n",
    "df = pd.read_excel('D:\\Hackathons\\Luna Hacks\\yields\\machine_learning\\crop yields prediction in Sub-Saharan Africa\\data\\GygaRainfedMaizeSubSaharanAfrica (1).xlsx', sheet_name='Station')"
   ]
  },
  {
   "cell_type": "code",
   "execution_count": 21,
   "metadata": {},
   "outputs": [
    {
     "data": {
      "text/html": [
       "<div>\n",
       "<style scoped>\n",
       "    .dataframe tbody tr th:only-of-type {\n",
       "        vertical-align: middle;\n",
       "    }\n",
       "\n",
       "    .dataframe tbody tr th {\n",
       "        vertical-align: top;\n",
       "    }\n",
       "\n",
       "    .dataframe thead th {\n",
       "        text-align: right;\n",
       "    }\n",
       "</style>\n",
       "<table border=\"1\" class=\"dataframe\">\n",
       "  <thead>\n",
       "    <tr style=\"text-align: right;\">\n",
       "      <th></th>\n",
       "      <th>STATIONNAME</th>\n",
       "      <th>LONGITUDE</th>\n",
       "      <th>LATITUDE</th>\n",
       "      <th>ELEVATION_METER</th>\n",
       "      <th>COUNTRY</th>\n",
       "      <th>CROP</th>\n",
       "      <th>YA</th>\n",
       "      <th>YW</th>\n",
       "      <th>YW-YA</th>\n",
       "      <th>YP</th>\n",
       "      <th>...</th>\n",
       "      <th>WPA</th>\n",
       "      <th>CROPPING_INTENSITY</th>\n",
       "      <th>YW_CV_TEMPORAL</th>\n",
       "      <th>YP_CV_TEMPORAL</th>\n",
       "      <th>YA_CV_TEMPORAL</th>\n",
       "      <th>CLIMATEZONE</th>\n",
       "      <th>AREA_IN_CLIMATEZONE_HA</th>\n",
       "      <th>MIN_N_INPUT_TARGET_30_PERC</th>\n",
       "      <th>MIN_N_INPUT_TARGET_50_PERC</th>\n",
       "      <th>MIN_N_INPUT_TARGET_80_PERC</th>\n",
       "    </tr>\n",
       "  </thead>\n",
       "  <tbody>\n",
       "    <tr>\n",
       "      <th>0</th>\n",
       "      <td>Bobo-Dioulasso</td>\n",
       "      <td>-4.317</td>\n",
       "      <td>11.167</td>\n",
       "      <td>445.0</td>\n",
       "      <td>Burkina Faso</td>\n",
       "      <td>Rainfed maize</td>\n",
       "      <td>1.881295</td>\n",
       "      <td>8.803804</td>\n",
       "      <td>6.922509</td>\n",
       "      <td>10.657895</td>\n",
       "      <td>...</td>\n",
       "      <td>4.869042</td>\n",
       "      <td>1.0</td>\n",
       "      <td>0.194382</td>\n",
       "      <td>0.032700</td>\n",
       "      <td>0.162893</td>\n",
       "      <td>10301</td>\n",
       "      <td>158555</td>\n",
       "      <td>53.356388</td>\n",
       "      <td>88.927314</td>\n",
       "      <td>149.026281</td>\n",
       "    </tr>\n",
       "    <tr>\n",
       "      <th>1</th>\n",
       "      <td>Bogandé</td>\n",
       "      <td>-0.137</td>\n",
       "      <td>12.974</td>\n",
       "      <td>281.0</td>\n",
       "      <td>Burkina Faso</td>\n",
       "      <td>Rainfed maize</td>\n",
       "      <td>1.002378</td>\n",
       "      <td>5.276038</td>\n",
       "      <td>4.273660</td>\n",
       "      <td>10.055556</td>\n",
       "      <td>...</td>\n",
       "      <td>2.730161</td>\n",
       "      <td>1.0</td>\n",
       "      <td>0.646120</td>\n",
       "      <td>0.048145</td>\n",
       "      <td>0.175539</td>\n",
       "      <td>10101</td>\n",
       "      <td>32846</td>\n",
       "      <td>31.975989</td>\n",
       "      <td>53.293315</td>\n",
       "      <td>89.310069</td>\n",
       "    </tr>\n",
       "    <tr>\n",
       "      <th>2</th>\n",
       "      <td>Boromo</td>\n",
       "      <td>-2.933</td>\n",
       "      <td>11.750</td>\n",
       "      <td>243.0</td>\n",
       "      <td>Burkina Faso</td>\n",
       "      <td>Rainfed maize</td>\n",
       "      <td>1.461313</td>\n",
       "      <td>8.380198</td>\n",
       "      <td>6.918885</td>\n",
       "      <td>10.077778</td>\n",
       "      <td>...</td>\n",
       "      <td>3.920883</td>\n",
       "      <td>1.0</td>\n",
       "      <td>0.240237</td>\n",
       "      <td>0.057815</td>\n",
       "      <td>0.199634</td>\n",
       "      <td>10201</td>\n",
       "      <td>161472</td>\n",
       "      <td>50.789079</td>\n",
       "      <td>84.648465</td>\n",
       "      <td>141.855695</td>\n",
       "    </tr>\n",
       "    <tr>\n",
       "      <th>3</th>\n",
       "      <td>Dédougou</td>\n",
       "      <td>-3.483</td>\n",
       "      <td>12.467</td>\n",
       "      <td>299.0</td>\n",
       "      <td>Burkina Faso</td>\n",
       "      <td>Rainfed maize</td>\n",
       "      <td>1.474030</td>\n",
       "      <td>5.845895</td>\n",
       "      <td>4.371865</td>\n",
       "      <td>10.057895</td>\n",
       "      <td>...</td>\n",
       "      <td>3.935390</td>\n",
       "      <td>1.0</td>\n",
       "      <td>0.571344</td>\n",
       "      <td>0.048177</td>\n",
       "      <td>0.201487</td>\n",
       "      <td>10201</td>\n",
       "      <td>58791</td>\n",
       "      <td>35.429665</td>\n",
       "      <td>59.049442</td>\n",
       "      <td>98.956309</td>\n",
       "    </tr>\n",
       "    <tr>\n",
       "      <th>4</th>\n",
       "      <td>Fada Ngourma</td>\n",
       "      <td>0.367</td>\n",
       "      <td>12.033</td>\n",
       "      <td>294.0</td>\n",
       "      <td>Burkina Faso</td>\n",
       "      <td>Rainfed maize</td>\n",
       "      <td>1.344819</td>\n",
       "      <td>6.625926</td>\n",
       "      <td>5.281107</td>\n",
       "      <td>10.416667</td>\n",
       "      <td>...</td>\n",
       "      <td>3.744870</td>\n",
       "      <td>1.0</td>\n",
       "      <td>0.411372</td>\n",
       "      <td>0.047632</td>\n",
       "      <td>0.153830</td>\n",
       "      <td>10201</td>\n",
       "      <td>48289</td>\n",
       "      <td>40.157127</td>\n",
       "      <td>66.928545</td>\n",
       "      <td>112.160277</td>\n",
       "    </tr>\n",
       "  </tbody>\n",
       "</table>\n",
       "<p>5 rows × 22 columns</p>\n",
       "</div>"
      ],
      "text/plain": [
       "      STATIONNAME  LONGITUDE  LATITUDE  ELEVATION_METER       COUNTRY  \\\n",
       "0  Bobo-Dioulasso     -4.317    11.167            445.0  Burkina Faso   \n",
       "1         Bogandé     -0.137    12.974            281.0  Burkina Faso   \n",
       "2          Boromo     -2.933    11.750            243.0  Burkina Faso   \n",
       "3        Dédougou     -3.483    12.467            299.0  Burkina Faso   \n",
       "4    Fada Ngourma      0.367    12.033            294.0  Burkina Faso   \n",
       "\n",
       "            CROP        YA        YW     YW-YA         YP  ...       WPA  \\\n",
       "0  Rainfed maize  1.881295  8.803804  6.922509  10.657895  ...  4.869042   \n",
       "1  Rainfed maize  1.002378  5.276038  4.273660  10.055556  ...  2.730161   \n",
       "2  Rainfed maize  1.461313  8.380198  6.918885  10.077778  ...  3.920883   \n",
       "3  Rainfed maize  1.474030  5.845895  4.371865  10.057895  ...  3.935390   \n",
       "4  Rainfed maize  1.344819  6.625926  5.281107  10.416667  ...  3.744870   \n",
       "\n",
       "   CROPPING_INTENSITY  YW_CV_TEMPORAL  YP_CV_TEMPORAL  YA_CV_TEMPORAL  \\\n",
       "0                 1.0        0.194382        0.032700        0.162893   \n",
       "1                 1.0        0.646120        0.048145        0.175539   \n",
       "2                 1.0        0.240237        0.057815        0.199634   \n",
       "3                 1.0        0.571344        0.048177        0.201487   \n",
       "4                 1.0        0.411372        0.047632        0.153830   \n",
       "\n",
       "   CLIMATEZONE  AREA_IN_CLIMATEZONE_HA  MIN_N_INPUT_TARGET_30_PERC  \\\n",
       "0        10301                  158555                   53.356388   \n",
       "1        10101                   32846                   31.975989   \n",
       "2        10201                  161472                   50.789079   \n",
       "3        10201                   58791                   35.429665   \n",
       "4        10201                   48289                   40.157127   \n",
       "\n",
       "   MIN_N_INPUT_TARGET_50_PERC  MIN_N_INPUT_TARGET_80_PERC  \n",
       "0                   88.927314                  149.026281  \n",
       "1                   53.293315                   89.310069  \n",
       "2                   84.648465                  141.855695  \n",
       "3                   59.049442                   98.956309  \n",
       "4                   66.928545                  112.160277  \n",
       "\n",
       "[5 rows x 22 columns]"
      ]
     },
     "execution_count": 21,
     "metadata": {},
     "output_type": "execute_result"
    }
   ],
   "source": [
    "df.head()"
   ]
  },
  {
   "cell_type": "code",
   "execution_count": 22,
   "metadata": {},
   "outputs": [
    {
     "data": {
      "application/vnd.jupyter.widget-view+json": {
       "model_id": "af3f95293af64564b43d90876d6e662a",
       "version_major": 2,
       "version_minor": 0
      },
      "text/plain": [
       "                                             |          | [  0%]   00:00 -> (? left)"
      ]
     },
     "metadata": {},
     "output_type": "display_data"
    },
    {
     "name": "stdout",
     "output_type": "stream",
     "text": [
      "Report SWEETVIZ_REPORT.html was generated! NOTEBOOK/COLAB USERS: the web browser MAY not pop up, regardless, the report IS saved in your notebook/colab files.\n"
     ]
    }
   ],
   "source": [
    "import sweetviz as sv\n",
    "report = sv.analyze(df)\n",
    "report.show_html()"
   ]
  },
  {
   "attachments": {},
   "cell_type": "markdown",
   "metadata": {},
   "source": [
    "# DATA CLEANING"
   ]
  },
  {
   "cell_type": "code",
   "execution_count": 23,
   "metadata": {},
   "outputs": [
    {
     "data": {
      "text/plain": [
       "STATIONNAME                    0\n",
       "LONGITUDE                      0\n",
       "LATITUDE                       0\n",
       "ELEVATION_METER                2\n",
       "COUNTRY                        0\n",
       "CROP                           0\n",
       "YA                             0\n",
       "YW                             0\n",
       "YW-YA                          0\n",
       "YP                             0\n",
       "YP-YA                          0\n",
       "WPP                            0\n",
       "WPA                            0\n",
       "CROPPING_INTENSITY             0\n",
       "YW_CV_TEMPORAL                 0\n",
       "YP_CV_TEMPORAL                 0\n",
       "YA_CV_TEMPORAL                27\n",
       "CLIMATEZONE                    0\n",
       "AREA_IN_CLIMATEZONE_HA         0\n",
       "MIN_N_INPUT_TARGET_30_PERC     0\n",
       "MIN_N_INPUT_TARGET_50_PERC     0\n",
       "MIN_N_INPUT_TARGET_80_PERC     0\n",
       "dtype: int64"
      ]
     },
     "execution_count": 23,
     "metadata": {},
     "output_type": "execute_result"
    }
   ],
   "source": [
    "# check for missing values\n",
    "df.isnull().sum()   "
   ]
  },
  {
   "attachments": {},
   "cell_type": "markdown",
   "metadata": {},
   "source": [
    "# FEATURE SELECTION"
   ]
  },
  {
   "cell_type": "code",
   "execution_count": 24,
   "metadata": {},
   "outputs": [
    {
     "data": {
      "application/vnd.jupyter.widget-view+json": {
       "model_id": "a25c21cd08714565860c79e1bb308c60",
       "version_major": 2,
       "version_minor": 0
      },
      "text/plain": [
       "Summarize dataset:   0%|          | 0/5 [00:00<?, ?it/s]"
      ]
     },
     "metadata": {},
     "output_type": "display_data"
    },
    {
     "data": {
      "application/vnd.jupyter.widget-view+json": {
       "model_id": "aee3eb8b59cc424b8d69ce5f849464d3",
       "version_major": 2,
       "version_minor": 0
      },
      "text/plain": [
       "Generate report structure:   0%|          | 0/1 [00:00<?, ?it/s]"
      ]
     },
     "metadata": {},
     "output_type": "display_data"
    },
    {
     "data": {
      "application/vnd.jupyter.widget-view+json": {
       "model_id": "8a8f3258eeb646b1b4ac6da86af8adb5",
       "version_major": 2,
       "version_minor": 0
      },
      "text/plain": [
       "Render HTML:   0%|          | 0/1 [00:00<?, ?it/s]"
      ]
     },
     "metadata": {},
     "output_type": "display_data"
    },
    {
     "data": {
      "application/vnd.jupyter.widget-view+json": {
       "model_id": "8352efa9a2224afcb44af24a4718a662",
       "version_major": 2,
       "version_minor": 0
      },
      "text/plain": [
       "Export report to file:   0%|          | 0/1 [00:00<?, ?it/s]"
      ]
     },
     "metadata": {},
     "output_type": "display_data"
    }
   ],
   "source": [
    "#Pearson's Correlation Coefficient : Helps as find out the relationship between two quantities. It gives you the measure of the strength of association between two variables. \n",
    "#The value of Pearson's Correlation Coefficient can be between -1 to +1. 1 means that they are highly correlated and 0 means no correlation.\n",
    "from pandas_profiling import ProfileReport\n",
    "\n",
    "# profiling data with pandas\n",
    "profile = ProfileReport(df, title=\"Profiling Report\")\n",
    "profile.to_file(\"yield_report.html\")"
   ]
  },
  {
   "cell_type": "code",
   "execution_count": 25,
   "metadata": {},
   "outputs": [
    {
     "data": {
      "text/plain": [
       "(105, 22)"
      ]
     },
     "execution_count": 25,
     "metadata": {},
     "output_type": "execute_result"
    }
   ],
   "source": [
    "df.shape"
   ]
  },
  {
   "attachments": {},
   "cell_type": "markdown",
   "metadata": {},
   "source": [
    "# HANDLING OUTLIERS"
   ]
  },
  {
   "cell_type": "code",
   "execution_count": 40,
   "metadata": {},
   "outputs": [
    {
     "data": {
      "text/plain": [
       "<AxesSubplot: xlabel='MIN_N_INPUT_TARGET_80_PERC'>"
      ]
     },
     "execution_count": 40,
     "metadata": {},
     "output_type": "execute_result"
    },
    {
     "data": {
      "image/png": "[encoded data removed]",
      "text/plain": [
       "<Figure size 1600x1200 with 9 Axes>"
      ]
     },
     "metadata": {},
     "output_type": "display_data"
    }
   ],
   "source": [
    "# How we are  treating the outliers ?\n",
    "\n",
    "#By using a Quantile Transformer :- This method transforms the features to follow a uniform or a normal distribution. \n",
    "#Therefore, for a given feature, this transformation tends to spread out the most frequent values. \n",
    "#Box Plot :- to analyse the distribution and see the outliers\n",
    "plt.figure(figsize=(16,12))\n",
    "sns.set_style(style='whitegrid')\n",
    "plt.subplot(3,3,1)\n",
    "sns.boxplot(x='LONGITUDE',data=df)\n",
    "plt.subplot(3,3,2)\n",
    "sns.boxplot(x='LATITUDE',data=df)\n",
    "plt.subplot(3,3,3)\n",
    "sns.boxplot(x='ELEVATION_METER',data=df)\n",
    "plt.subplot(3,3,4)\n",
    "sns.boxplot(x='YW',data=df)\n",
    "plt.subplot(3,3,5)\n",
    "sns.boxplot(x='YW-YA',data=df)\n",
    "plt.subplot(3,3,6)\n",
    "sns.boxplot(x='YP',data=df)\n",
    "plt.subplot(3,3,7)\n",
    "sns.boxplot(x='YP-YA',data=df)\n",
    "plt.subplot(3,3,8)\n",
    "sns.boxplot(x='WPA',data=df)\n",
    "plt.subplot(3,3,9)\n",
    "sns.boxplot(x='YW_CV_TEMPORAL',data=df)\n",
    "plt.subplot(3,3,1)\n",
    "sns.boxplot(x='YP_CV_TEMPORAL',data=df)\n",
    "plt.subplot(3,3,2)\n",
    "sns.boxplot(x='YA_CV_TEMPORAL',data=df)\n",
    "plt.subplot(3,3,3)\n",
    "sns.boxplot(x='CLIMATEZONE',data=df)\n",
    "plt.subplot(3,3,4)\n",
    "sns.boxplot(x='AREA_IN_CLIMATEZONE_HA',data=df)\n",
    "plt.subplot(3,3,5)\n",
    "sns.boxplot(x='MIN_N_INPUT_TARGET_30_PERC',data=df)\n",
    "plt.subplot(3,3,6)\n",
    "sns.boxplot(x='MIN_N_INPUT_TARGET_80_PERC',data=df)"
   ]
  },
  {
   "cell_type": "code",
   "execution_count": 41,
   "metadata": {},
   "outputs": [
    {
     "name": "stderr",
     "output_type": "stream",
     "text": [
      "d:\\Anaconda\\lib\\site-packages\\sklearn\\preprocessing\\_data.py:2590: UserWarning: n_quantiles (1000) is greater than the total number of samples (105). n_quantiles is set to n_samples.\n",
      "  warnings.warn(\n",
      "d:\\Anaconda\\lib\\site-packages\\sklearn\\base.py:450: UserWarning: X does not have valid feature names, but QuantileTransformer was fitted with feature names\n",
      "  warnings.warn(\n"
     ]
    }
   ],
   "source": [
    "from sklearn.preprocessing import QuantileTransformer\n",
    "x=df.drop(['STATIONNAME','COUNTRY','CROP'],axis=1)\n",
    "quantile  = QuantileTransformer()\n",
    "X = quantile.fit_transform(x)\n",
    "df_new=quantile.transform(X)\n",
    "df_new=pd.DataFrame(X)\n",
    "df_new.columns =['LONGITUDE', 'LATITUDE','ELEVATION_METER','YA','YW','YW-YA','YP','YP-YA', 'WPP','WPA','CROPPING_INTENSITY','YW_CV_TEMPORAL','YP_CV_TEMPORAL','YA_CV_TEMPORAL','CLIMATEZONE','AREA_IN_CLIMATEZONE_HA','MIN_N_INPUT_TARGET_30_PERC','MIN_N_INPUT_TARGET_50_PERC','MIN_N_INPUT_TARGET_80_PERC']\n",
    "df1=df_new"
   ]
  },
  {
   "cell_type": "code",
   "execution_count": 28,
   "metadata": {},
   "outputs": [],
   "source": [
    "# drop text columns\n",
    "df = df.drop(['STATIONNAME', 'COUNTRY','CROP','YA_CV_TEMPORAL','CROP','ELEVATION_METER','LONGITUDE', 'LATITUDE','MIN_N_INPUT_TARGET_30_PERC',\n",
    "       'MIN_N_INPUT_TARGET_50_PERC', 'MIN_N_INPUT_TARGET_80_PERC','YP-YA','YW-YA'], axis=1)\n"
   ]
  },
  {
   "cell_type": "code",
   "execution_count": 29,
   "metadata": {},
   "outputs": [
    {
     "data": {
      "text/plain": [
       "Index(['LONGITUDE', 'LATITUDE', 'ELEVATION_METER', 'YA', 'YW', 'YW-YA', 'YP',\n",
       "       'YP-YA', 'WPP', 'WPA', 'CROPPING_INTENSITY', 'YW_CV_TEMPORAL',\n",
       "       'YP_CV_TEMPORAL', 'YA_CV_TEMPORAL', 'CLIMATEZONE',\n",
       "       'AREA_IN_CLIMATEZONE_HA', 'MIN_N_INPUT_TARGET_30_PERC',\n",
       "       'MIN_N_INPUT_TARGET_50_PERC', 'MIN_N_INPUT_TARGET_80_PERC'],\n",
       "      dtype='object')"
      ]
     },
     "execution_count": 29,
     "metadata": {},
     "output_type": "execute_result"
    }
   ],
   "source": [
    "# show all columns\n",
    "df1.columns\n"
   ]
  },
  {
   "attachments": {},
   "cell_type": "markdown",
   "metadata": {},
   "source": [
    "# Data TEST TRAIN Split"
   ]
  },
  {
   "cell_type": "code",
   "execution_count": 30,
   "metadata": {},
   "outputs": [],
   "source": [
    "#train test split\n",
    "from sklearn.model_selection import train_test_split\n",
    "X = df.drop(['YA'], axis=1)\n",
    "y = df['YA']\n",
    "X_train, X_test, y_train, y_test = train_test_split(X, y, test_size=0.3, random_state=42)"
   ]
  },
  {
   "cell_type": "code",
   "execution_count": 31,
   "metadata": {},
   "outputs": [
    {
     "name": "stdout",
     "output_type": "stream",
     "text": [
      "Mean Squared Error: 0.010645609404736169\n",
      "Accuracy: 0.9790859655843019\n",
      "Accuracy for r2 score: 0.9790859655843019\n"
     ]
    }
   ],
   "source": [
    "#linear regression model\n",
    "from sklearn.linear_model import LinearRegression\n",
    "from sklearn.metrics import mean_squared_error\n",
    "from sklearn.metrics import accuracy_score\n",
    "\n",
    "# Create a linear regression model and fit it to the training data\n",
    "lr = LinearRegression()\n",
    "lr.fit(X_train, y_train)\n",
    "    \n",
    "# Make predictions on the test data\n",
    "y_pred = lr.predict(X_test)\n",
    "\n",
    "# Calculate the mean squared error of the predictions\n",
    "mse = mean_squared_error(y_test, y_pred)\n",
    "print(\"Mean Squared Error:\", mse)\n",
    "\n",
    "# Calculate the accuracy score of the predictions\n",
    "accuracy = lr.score(X_test, y_test)\n",
    "print(\"Accuracy:\", accuracy)\n",
    "\n",
    "# accuracy score\n",
    "from sklearn.metrics import r2_score\n",
    "score = r2_score(y_test, y_pred)\n",
    "print(\"Accuracy for r2 score:\", score)\n"
   ]
  },
  {
   "cell_type": "code",
   "execution_count": 32,
   "metadata": {},
   "outputs": [
    {
     "name": "stdout",
     "output_type": "stream",
     "text": [
      "Mean Squared Error: 0.09120048410284007\n",
      "Accuracy: 0.8208303544927599\n",
      "Accuracy for r2 score: 0.8208303544927599\n"
     ]
    }
   ],
   "source": [
    "from sklearn.ensemble import RandomForestRegressor\n",
    "from sklearn.metrics import mean_squared_error\n",
    "\n",
    "\n",
    "# Create a random forest regressor and fit it to the training data\n",
    "rf = RandomForestRegressor(random_state=0)\n",
    "rf.fit(X_train, y_train)\n",
    "\n",
    "# Make predictions on the test data\n",
    "y_pred = rf.predict(X_test)\n",
    "\n",
    "# Calculate the mean squared error of the predictions\n",
    "mse = mean_squared_error(y_test, y_pred)\n",
    "print(\"Mean Squared Error:\", mse)\n",
    "\n",
    "# Calculate the accuracy score of the predictions\n",
    "accuracy = rf.score(X_test, y_test)\n",
    "print(\"Accuracy:\", accuracy)\n",
    "\n",
    "# accuracy score\n",
    "from sklearn.metrics import r2_score\n",
    "score = r2_score(y_test, y_pred)\n",
    "print(\"Accuracy for r2 score:\", score)\n",
    "\n"
   ]
  },
  {
   "attachments": {},
   "cell_type": "markdown",
   "metadata": {},
   "source": [
    "# hyperparametization"
   ]
  },
  {
   "cell_type": "code",
   "execution_count": 37,
   "metadata": {},
   "outputs": [
    {
     "data": {
      "text/plain": [
       "Index(['LONGITUDE', 'LATITUDE', 'ELEVATION_METER', 'YA', 'YW', 'YW-YA', 'YP',\n",
       "       'YP-YA', 'WPP', 'WPA', 'CROPPING_INTENSITY', 'YW_CV_TEMPORAL',\n",
       "       'YP_CV_TEMPORAL', 'YA_CV_TEMPORAL', 'CLIMATEZONE',\n",
       "       'AREA_IN_CLIMATEZONE_HA', 'MIN_N_INPUT_TARGET_30_PERC',\n",
       "       'MIN_N_INPUT_TARGET_50_PERC', 'MIN_N_INPUT_TARGET_80_PERC'],\n",
       "      dtype='object')"
      ]
     },
     "execution_count": 37,
     "metadata": {},
     "output_type": "execute_result"
    }
   ],
   "source": [
    "df1.columns\n"
   ]
  },
  {
   "cell_type": "code",
   "execution_count": 43,
   "metadata": {},
   "outputs": [],
   "source": [
    "#train test split\n",
    "from sklearn.model_selection import train_test_split\n",
    "X = df1.drop(['YA','YA_CV_TEMPORAL','ELEVATION_METER','LONGITUDE', 'LATITUDE','MIN_N_INPUT_TARGET_30_PERC',\n",
    "       'MIN_N_INPUT_TARGET_50_PERC', 'MIN_N_INPUT_TARGET_80_PERC','YP-YA','YW-YA'], axis=1)\n",
    "y = df1['YA']\n",
    "X_train, X_test, y_train, y_test = train_test_split(X, y, test_size=0.3, random_state=4)"
   ]
  },
  {
   "cell_type": "code",
   "execution_count": 44,
   "metadata": {},
   "outputs": [
    {
     "name": "stdout",
     "output_type": "stream",
     "text": [
      "Best hyperparameters for Random Forest: {'max_depth': 10, 'min_samples_leaf': 1, 'min_samples_split': 2, 'n_estimators': 100}\n"
     ]
    }
   ],
   "source": [
    "from sklearn.ensemble import RandomForestRegressor\n",
    "from sklearn.model_selection import GridSearchCV\n",
    "\n",
    "# Initialize the model\n",
    "rf_model = RandomForestRegressor()\n",
    "\n",
    "# Define the hyperparameters to tune\n",
    "param_grid = {\n",
    "    'n_estimators': [100, 200, 300],\n",
    "    'max_depth': [5, 10, 15],\n",
    "    'min_samples_split': [2, 5, 10],\n",
    "    'min_samples_leaf': [1, 2, 4]\n",
    "}\n",
    "\n",
    "# Use grid search to find the best hyperparameters\n",
    "grid_search = GridSearchCV(estimator = rf_model, param_grid = param_grid, cv = 5)\n",
    "grid_search.fit(X_train, y_train)\n",
    "\n",
    "# Print the best hyperparameters\n",
    "print(\"Best hyperparameters for Random Forest:\", grid_search.best_params_)\n"
   ]
  },
  {
   "attachments": {},
   "cell_type": "markdown",
   "metadata": {},
   "source": [
    "## fitting the random forest regressor model with the best hyperparemeters"
   ]
  },
  {
   "cell_type": "code",
   "execution_count": 45,
   "metadata": {},
   "outputs": [
    {
     "name": "stdout",
     "output_type": "stream",
     "text": [
      "Mean Squared Error: 0.011696348172219784\n",
      "Accuracy: 0.878529042774782\n",
      "Accuracy for r2 score: 0.878529042774782\n"
     ]
    }
   ],
   "source": [
    "# Create a random forest regressor and fit it to the training data\n",
    "rf = RandomForestRegressor(random_state=0, n_estimators=100, max_depth=10, min_samples_split=2, min_samples_leaf=1)\n",
    "rf.fit(X_train, y_train)\n",
    "\n",
    "# Make predictions on the test data\n",
    "y_pred = rf.predict(X_test)\n",
    "\n",
    "# Calculate the mean squared error of the predictions\n",
    "mse = mean_squared_error(y_test, y_pred)\n",
    "print(\"Mean Squared Error:\", mse)\n",
    "\n",
    "# Calculate the accuracy score of the predictions\n",
    "accuracy = rf.score(X_test, y_test)\n",
    "print(\"Accuracy:\", accuracy)\n",
    "\n",
    "# accuracy score\n",
    "from sklearn.metrics import r2_score\n",
    "score = r2_score(y_test, y_pred)\n",
    "print(\"Accuracy for r2 score:\", score)\n"
   ]
  },
  {
   "cell_type": "code",
   "execution_count": 46,
   "metadata": {},
   "outputs": [
    {
     "name": "stdout",
     "output_type": "stream",
     "text": [
      "Mean Squared Error: 0.021862865199704158\n",
      "Accuracy: 0.7729459550630016\n",
      "Accuracy for r2 score: 0.7729459550630016\n"
     ]
    }
   ],
   "source": [
    "from sklearn.tree import DecisionTreeRegressor\n",
    "from sklearn.metrics import mean_squared_error\n",
    "\n",
    "# Create a decision tree regressor and fit it to the training data\n",
    "dt = DecisionTreeRegressor(random_state=0)\n",
    "dt.fit(X_train, y_train)\n",
    "\n",
    "# Make predictions on the test data\n",
    "y_pred = dt.predict(X_test)\n",
    "\n",
    "# Calculate the mean squared error of the predictions\n",
    "mse = mean_squared_error(y_test, y_pred)\n",
    "print(\"Mean Squared Error:\", mse)\n",
    "\n",
    "# Calculate the accuracy score of the predictions\n",
    "accuracy = dt.score(X_test, y_test)\n",
    "print(\"Accuracy:\", accuracy)\n",
    "\n",
    "# accuracy score\n",
    "from sklearn.metrics import r2_score\n",
    "score = r2_score(y_test, y_pred)\n",
    "print(\"Accuracy for r2 score:\", score)\n"
   ]
  },
  {
   "cell_type": "code",
   "execution_count": 47,
   "metadata": {},
   "outputs": [
    {
     "name": "stdout",
     "output_type": "stream",
     "text": [
      "The model has been trained and saved to a pickle file\n"
     ]
    }
   ],
   "source": [
    "#save the model to a pickle file\n",
    "import pickle\n",
    "pickle_out = open(\"optimum_model.pkl\",\"wb\")\n",
    "pickle.dump(lr, open('optimum_model.pkl','wb'))\n",
    "pickle_out.close()\n",
    "print('The model has been trained and saved to a pickle file')\n"
   ]
  },
  {
   "cell_type": "code",
   "execution_count": 48,
   "metadata": {},
   "outputs": [
    {
     "ename": "ValueError",
     "evalue": "continuous is not supported",
     "output_type": "error",
     "traceback": [
      "\u001b[1;31m---------------------------------------------------------------------------\u001b[0m",
      "\u001b[1;31mValueError\u001b[0m                                Traceback (most recent call last)",
      "Cell \u001b[1;32mIn[48], line 3\u001b[0m\n\u001b[0;32m      1\u001b[0m \u001b[39m#confusion matrix\u001b[39;00m\n\u001b[0;32m      2\u001b[0m \u001b[39mfrom\u001b[39;00m \u001b[39msklearn\u001b[39;00m\u001b[39m.\u001b[39;00m\u001b[39mmetrics\u001b[39;00m \u001b[39mimport\u001b[39;00m confusion_matrix\n\u001b[1;32m----> 3\u001b[0m confusion_matrix(y_test, y_pred)\n\u001b[0;32m      5\u001b[0m \u001b[39m#classification report\u001b[39;00m\n\u001b[0;32m      6\u001b[0m \u001b[39mfrom\u001b[39;00m \u001b[39msklearn\u001b[39;00m\u001b[39m.\u001b[39;00m\u001b[39mmetrics\u001b[39;00m \u001b[39mimport\u001b[39;00m classification_report\n",
      "File \u001b[1;32md:\\Anaconda\\lib\\site-packages\\sklearn\\metrics\\_classification.py:307\u001b[0m, in \u001b[0;36mconfusion_matrix\u001b[1;34m(y_true, y_pred, labels, sample_weight, normalize)\u001b[0m\n\u001b[0;32m    222\u001b[0m \u001b[39mdef\u001b[39;00m \u001b[39mconfusion_matrix\u001b[39m(\n\u001b[0;32m    223\u001b[0m     y_true, y_pred, \u001b[39m*\u001b[39m, labels\u001b[39m=\u001b[39m\u001b[39mNone\u001b[39;00m, sample_weight\u001b[39m=\u001b[39m\u001b[39mNone\u001b[39;00m, normalize\u001b[39m=\u001b[39m\u001b[39mNone\u001b[39;00m\n\u001b[0;32m    224\u001b[0m ):\n\u001b[0;32m    225\u001b[0m     \u001b[39m\"\"\"Compute confusion matrix to evaluate the accuracy of a classification.\u001b[39;00m\n\u001b[0;32m    226\u001b[0m \n\u001b[0;32m    227\u001b[0m \u001b[39m    By definition a confusion matrix :math:`C` is such that :math:`C_{i, j}`\u001b[39;00m\n\u001b[1;32m   (...)\u001b[0m\n\u001b[0;32m    305\u001b[0m \u001b[39m    (0, 2, 1, 1)\u001b[39;00m\n\u001b[0;32m    306\u001b[0m \u001b[39m    \"\"\"\u001b[39;00m\n\u001b[1;32m--> 307\u001b[0m     y_type, y_true, y_pred \u001b[39m=\u001b[39m _check_targets(y_true, y_pred)\n\u001b[0;32m    308\u001b[0m     \u001b[39mif\u001b[39;00m y_type \u001b[39mnot\u001b[39;00m \u001b[39min\u001b[39;00m (\u001b[39m\"\u001b[39m\u001b[39mbinary\u001b[39m\u001b[39m\"\u001b[39m, \u001b[39m\"\u001b[39m\u001b[39mmulticlass\u001b[39m\u001b[39m\"\u001b[39m):\n\u001b[0;32m    309\u001b[0m         \u001b[39mraise\u001b[39;00m \u001b[39mValueError\u001b[39;00m(\u001b[39m\"\u001b[39m\u001b[39m%s\u001b[39;00m\u001b[39m is not supported\u001b[39m\u001b[39m\"\u001b[39m \u001b[39m%\u001b[39m y_type)\n",
      "File \u001b[1;32md:\\Anaconda\\lib\\site-packages\\sklearn\\metrics\\_classification.py:104\u001b[0m, in \u001b[0;36m_check_targets\u001b[1;34m(y_true, y_pred)\u001b[0m\n\u001b[0;32m    102\u001b[0m \u001b[39m# No metrics support \"multiclass-multioutput\" format\u001b[39;00m\n\u001b[0;32m    103\u001b[0m \u001b[39mif\u001b[39;00m y_type \u001b[39mnot\u001b[39;00m \u001b[39min\u001b[39;00m [\u001b[39m\"\u001b[39m\u001b[39mbinary\u001b[39m\u001b[39m\"\u001b[39m, \u001b[39m\"\u001b[39m\u001b[39mmulticlass\u001b[39m\u001b[39m\"\u001b[39m, \u001b[39m\"\u001b[39m\u001b[39mmultilabel-indicator\u001b[39m\u001b[39m\"\u001b[39m]:\n\u001b[1;32m--> 104\u001b[0m     \u001b[39mraise\u001b[39;00m \u001b[39mValueError\u001b[39;00m(\u001b[39m\"\u001b[39m\u001b[39m{0}\u001b[39;00m\u001b[39m is not supported\u001b[39m\u001b[39m\"\u001b[39m\u001b[39m.\u001b[39mformat(y_type))\n\u001b[0;32m    106\u001b[0m \u001b[39mif\u001b[39;00m y_type \u001b[39min\u001b[39;00m [\u001b[39m\"\u001b[39m\u001b[39mbinary\u001b[39m\u001b[39m\"\u001b[39m, \u001b[39m\"\u001b[39m\u001b[39mmulticlass\u001b[39m\u001b[39m\"\u001b[39m]:\n\u001b[0;32m    107\u001b[0m     y_true \u001b[39m=\u001b[39m column_or_1d(y_true)\n",
      "\u001b[1;31mValueError\u001b[0m: continuous is not supported"
     ]
    }
   ],
   "source": [
    "#confusion matrix\n",
    "from sklearn.metrics import confusion_matrix\n",
    "confusion_matrix(y_test, y_pred)\n",
    "\n",
    "#classification report\n",
    "from sklearn.metrics import classification_report\n",
    "print(classification_report(y_test, y_pred))\n",
    "\n",
    "# plot the confusion matrix\n",
    "import matplotlib.pyplot as plt\n",
    "import seaborn as sns\n",
    "from sklearn.metrics import confusion_matrix\n",
    "cm = confusion_matrix(y_test, y_pred)\n",
    "sns.heatmap(cm, annot=True, fmt='d')\n"
   ]
  }
 ],
 "metadata": {
  "kernelspec": {
   "display_name": "base",
   "language": "python",
   "name": "python3"
  },
  "language_info": {
   "codemirror_mode": {
    "name": "ipython",
    "version": 3
   },
   "file_extension": ".py",
   "mimetype": "text/x-python",
   "name": "python",
   "nbconvert_exporter": "python",
   "pygments_lexer": "ipython3",
   "version": "3.9.15"
  },
  "orig_nbformat": 4,
  "vscode": {
   "interpreter": {
    "hash": "88279d2366fe020547cde40dd65aa0e3aa662a6ec1f3ca12d88834876c85e1a6"
   }
  }
 },
 "nbformat": 4,
 "nbformat_minor": 2
}
